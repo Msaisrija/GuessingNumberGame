{
 "cells": [
  {
   "cell_type": "code",
   "execution_count": 3,
   "id": "8ea7256f-3b8e-4f2c-9f55-dbc6c7a09abe",
   "metadata": {},
   "outputs": [
    {
     "name": "stdin",
     "output_type": "stream",
     "text": [
      "Enter numbers of attempts you are wishing for :  6\n",
      "Enter a number between 1 and 100:  20\n"
     ]
    },
    {
     "name": "stdout",
     "output_type": "stream",
     "text": [
      " Try a higher number.\n",
      "Attempts remaining:  5\n"
     ]
    },
    {
     "name": "stdin",
     "output_type": "stream",
     "text": [
      "Enter a number between 1 and 100:  34\n"
     ]
    },
    {
     "name": "stdout",
     "output_type": "stream",
     "text": [
      " Try a higher number.\n",
      "Attempts remaining:  4\n"
     ]
    },
    {
     "name": "stdin",
     "output_type": "stream",
     "text": [
      "Enter a number between 1 and 100:  45\n"
     ]
    },
    {
     "name": "stdout",
     "output_type": "stream",
     "text": [
      " Try a higher number.\n",
      "Attempts remaining:  3\n"
     ]
    },
    {
     "name": "stdin",
     "output_type": "stream",
     "text": [
      "Enter a number between 1 and 100:  56\n"
     ]
    },
    {
     "name": "stdout",
     "output_type": "stream",
     "text": [
      " Try a higher number.\n",
      "Attempts remaining:  2\n"
     ]
    },
    {
     "name": "stdin",
     "output_type": "stream",
     "text": [
      "Enter a number between 1 and 100:  67\n"
     ]
    },
    {
     "name": "stdout",
     "output_type": "stream",
     "text": [
      " Try a higher number.\n",
      "Attempts remaining:  1\n"
     ]
    },
    {
     "name": "stdin",
     "output_type": "stream",
     "text": [
      "Enter a number between 1 and 100:  78\n"
     ]
    },
    {
     "name": "stdout",
     "output_type": "stream",
     "text": [
      " Try a higher number.\n",
      "Game over! You've used all your attempts.\n",
      "The correct number is : 87\n"
     ]
    }
   ],
   "source": [
    "number = 87\n",
    "attempts = int(input(\"Enter numbers of attempts you are wishing for : \"))\n",
    "\n",
    "while attempts > 0:\n",
    "    guessNumber = int(input(\"Enter a number between 1 and 100: \"))\n",
    "    \n",
    "    if guessNumber == number:\n",
    "        print(\"Correct guess! Congratualations , you Won!\")\n",
    "        break\n",
    "    elif guessNumber > number:\n",
    "        print(\" Try a lower number.\")\n",
    "    else:\n",
    "        print(\" Try a higher number.\")\n",
    "    \n",
    "    attempts =  attempts-1  \n",
    "    \n",
    "    if attempts == 0:\n",
    "        print(\"Game over! You've used all your attempts.\")\n",
    "        print(\"The correct number is :\",number)\n",
    "    else:\n",
    "        print(\"Attempts remaining: \",attempts)\n",
    "\n",
    "\n"
   ]
  },
  {
   "cell_type": "code",
   "execution_count": null,
   "id": "8e30994f-6bbb-4ac5-b0ae-5f0cc4331d35",
   "metadata": {},
   "outputs": [],
   "source": []
  }
 ],
 "metadata": {
  "kernelspec": {
   "display_name": "Python 3 (ipykernel)",
   "language": "python",
   "name": "python3"
  },
  "language_info": {
   "codemirror_mode": {
    "name": "ipython",
    "version": 3
   },
   "file_extension": ".py",
   "mimetype": "text/x-python",
   "name": "python",
   "nbconvert_exporter": "python",
   "pygments_lexer": "ipython3",
   "version": "3.12.4"
  }
 },
 "nbformat": 4,
 "nbformat_minor": 5
}
